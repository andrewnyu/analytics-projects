{
 "cells": [
  {
   "cell_type": "markdown",
   "metadata": {},
   "source": [
    "## Do It Yourself!"
   ]
  },
  {
   "cell_type": "markdown",
   "metadata": {},
   "source": [
    "<b>Use get_covid_ph to query and convert raw data into a pandas dataframe.</b>"
   ]
  },
  {
   "cell_type": "code",
   "execution_count": 13,
   "metadata": {},
   "outputs": [
    {
     "data": {
      "text/html": [
       "<div>\n",
       "<style scoped>\n",
       "    .dataframe tbody tr th:only-of-type {\n",
       "        vertical-align: middle;\n",
       "    }\n",
       "\n",
       "    .dataframe tbody tr th {\n",
       "        vertical-align: top;\n",
       "    }\n",
       "\n",
       "    .dataframe thead th {\n",
       "        text-align: right;\n",
       "    }\n",
       "</style>\n",
       "<table border=\"1\" class=\"dataframe\">\n",
       "  <thead>\n",
       "    <tr style=\"text-align: right;\">\n",
       "      <th></th>\n",
       "      <th>FID</th>\n",
       "      <th>FID_1</th>\n",
       "      <th>PH_masterl</th>\n",
       "      <th>confirmed</th>\n",
       "      <th>edad</th>\n",
       "      <th>epi_link</th>\n",
       "      <th>facility</th>\n",
       "      <th>kasarian</th>\n",
       "      <th>latitude</th>\n",
       "      <th>longitude</th>\n",
       "      <th>nationalit</th>\n",
       "      <th>petsa</th>\n",
       "      <th>residence</th>\n",
       "      <th>status</th>\n",
       "      <th>symptoms</th>\n",
       "      <th>travel_hx</th>\n",
       "      <th>geometry.x</th>\n",
       "      <th>geometry.y</th>\n",
       "    </tr>\n",
       "  </thead>\n",
       "  <tbody>\n",
       "    <tr>\n",
       "      <th>0</th>\n",
       "      <td>1</td>\n",
       "      <td>1</td>\n",
       "      <td>PH1</td>\n",
       "      <td>1/30/2020</td>\n",
       "      <td>38</td>\n",
       "      <td></td>\n",
       "      <td>San Lazaro Hospital</td>\n",
       "      <td>Female</td>\n",
       "      <td>14.613754</td>\n",
       "      <td>120.980815</td>\n",
       "      <td>Chinese</td>\n",
       "      <td>1/29/2020 16:00</td>\n",
       "      <td>None</td>\n",
       "      <td></td>\n",
       "      <td></td>\n",
       "      <td>Yes (China); Wife of PH2</td>\n",
       "      <td>1.346752e+07</td>\n",
       "      <td>1.644726e+06</td>\n",
       "    </tr>\n",
       "    <tr>\n",
       "      <th>1</th>\n",
       "      <td>2</td>\n",
       "      <td>2</td>\n",
       "      <td>PH2</td>\n",
       "      <td>1/30/2020</td>\n",
       "      <td>44</td>\n",
       "      <td></td>\n",
       "      <td>San Lazaro Hospital</td>\n",
       "      <td>Male</td>\n",
       "      <td>14.613754</td>\n",
       "      <td>120.980815</td>\n",
       "      <td>Chinese</td>\n",
       "      <td>1/29/2020 16:00</td>\n",
       "      <td>None</td>\n",
       "      <td></td>\n",
       "      <td></td>\n",
       "      <td>Yes (China); Husband of PH1</td>\n",
       "      <td>1.346752e+07</td>\n",
       "      <td>1.644726e+06</td>\n",
       "    </tr>\n",
       "    <tr>\n",
       "      <th>2</th>\n",
       "      <td>3</td>\n",
       "      <td>3</td>\n",
       "      <td>PH3</td>\n",
       "      <td>1/30/2020</td>\n",
       "      <td>60</td>\n",
       "      <td></td>\n",
       "      <td>ACE Medical Center</td>\n",
       "      <td>Female</td>\n",
       "      <td>9.634451</td>\n",
       "      <td>123.869198</td>\n",
       "      <td>Chinese</td>\n",
       "      <td>1/29/2020 16:00</td>\n",
       "      <td>None</td>\n",
       "      <td></td>\n",
       "      <td></td>\n",
       "      <td>Yes (China)</td>\n",
       "      <td>1.378906e+07</td>\n",
       "      <td>1.077592e+06</td>\n",
       "    </tr>\n",
       "    <tr>\n",
       "      <th>3</th>\n",
       "      <td>4</td>\n",
       "      <td>4</td>\n",
       "      <td>PH4</td>\n",
       "      <td>3/5/2020</td>\n",
       "      <td>48</td>\n",
       "      <td></td>\n",
       "      <td>University of the East Ramon Magsaysay Memoria...</td>\n",
       "      <td>Male</td>\n",
       "      <td>14.607030</td>\n",
       "      <td>121.020581</td>\n",
       "      <td>Filipino</td>\n",
       "      <td>3/4/2020 16:00</td>\n",
       "      <td>Taguig City</td>\n",
       "      <td></td>\n",
       "      <td></td>\n",
       "      <td>Yes (Japan)</td>\n",
       "      <td>1.347195e+07</td>\n",
       "      <td>1.643953e+06</td>\n",
       "    </tr>\n",
       "    <tr>\n",
       "      <th>4</th>\n",
       "      <td>5</td>\n",
       "      <td>5</td>\n",
       "      <td>PH5</td>\n",
       "      <td>3/5/2020</td>\n",
       "      <td>62</td>\n",
       "      <td></td>\n",
       "      <td>Research Institute for Tropical Medicine</td>\n",
       "      <td>Male</td>\n",
       "      <td>14.409523</td>\n",
       "      <td>121.037122</td>\n",
       "      <td>Filipino</td>\n",
       "      <td>3/4/2020 16:00</td>\n",
       "      <td>Rizal</td>\n",
       "      <td></td>\n",
       "      <td></td>\n",
       "      <td>Husband of PH6</td>\n",
       "      <td>1.347379e+07</td>\n",
       "      <td>1.621242e+06</td>\n",
       "    </tr>\n",
       "  </tbody>\n",
       "</table>\n",
       "</div>"
      ],
      "text/plain": [
       "   FID  FID_1 PH_masterl  confirmed  edad epi_link  \\\n",
       "0    1      1        PH1  1/30/2020    38            \n",
       "1    2      2        PH2  1/30/2020    44            \n",
       "2    3      3        PH3  1/30/2020    60            \n",
       "3    4      4        PH4   3/5/2020    48            \n",
       "4    5      5        PH5   3/5/2020    62            \n",
       "\n",
       "                                            facility kasarian   latitude  \\\n",
       "0                                San Lazaro Hospital   Female  14.613754   \n",
       "1                                San Lazaro Hospital     Male  14.613754   \n",
       "2                                 ACE Medical Center   Female   9.634451   \n",
       "3  University of the East Ramon Magsaysay Memoria...     Male  14.607030   \n",
       "4           Research Institute for Tropical Medicine     Male  14.409523   \n",
       "\n",
       "    longitude nationalit            petsa    residence status symptoms  \\\n",
       "0  120.980815    Chinese  1/29/2020 16:00         None                   \n",
       "1  120.980815    Chinese  1/29/2020 16:00         None                   \n",
       "2  123.869198    Chinese  1/29/2020 16:00         None                   \n",
       "3  121.020581   Filipino   3/4/2020 16:00  Taguig City                   \n",
       "4  121.037122   Filipino   3/4/2020 16:00        Rizal                   \n",
       "\n",
       "                     travel_hx    geometry.x    geometry.y  \n",
       "0     Yes (China); Wife of PH2  1.346752e+07  1.644726e+06  \n",
       "1  Yes (China); Husband of PH1  1.346752e+07  1.644726e+06  \n",
       "2                  Yes (China)  1.378906e+07  1.077592e+06  \n",
       "3                  Yes (Japan)  1.347195e+07  1.643953e+06  \n",
       "4               Husband of PH6  1.347379e+07  1.621242e+06  "
      ]
     },
     "execution_count": 13,
     "metadata": {},
     "output_type": "execute_result"
    }
   ],
   "source": [
    "import sys,os\n",
    "sys.path.append(os.getcwd())\n",
    "\n",
    "from covid_ph_data import get_covid_ph\n",
    "sample = get_covid_ph()\n",
    "sample.head()"
   ]
  },
  {
   "cell_type": "markdown",
   "metadata": {},
   "source": [
    "<b>Use extract_contact_cols to return a dataframe with parsed values for contacts for each case.</b>\n",
    "<br>\n",
    "Column 'travel_hx' is parsed to obtain contacts, found in column <b>contacts</b> for complete code [PHX] and <b>contacts_num</b> for numeric [X]."
   ]
  },
  {
   "cell_type": "code",
   "execution_count": 12,
   "metadata": {},
   "outputs": [
    {
     "data": {
      "text/html": [
       "<div>\n",
       "<style scoped>\n",
       "    .dataframe tbody tr th:only-of-type {\n",
       "        vertical-align: middle;\n",
       "    }\n",
       "\n",
       "    .dataframe tbody tr th {\n",
       "        vertical-align: top;\n",
       "    }\n",
       "\n",
       "    .dataframe thead th {\n",
       "        text-align: right;\n",
       "    }\n",
       "</style>\n",
       "<table border=\"1\" class=\"dataframe\">\n",
       "  <thead>\n",
       "    <tr style=\"text-align: right;\">\n",
       "      <th></th>\n",
       "      <th>FID</th>\n",
       "      <th>PH_masterl</th>\n",
       "      <th>confirmed</th>\n",
       "      <th>edad</th>\n",
       "      <th>epi_link</th>\n",
       "      <th>facility</th>\n",
       "      <th>kasarian</th>\n",
       "      <th>latitude</th>\n",
       "      <th>longitude</th>\n",
       "      <th>nationalit</th>\n",
       "      <th>petsa</th>\n",
       "      <th>residence</th>\n",
       "      <th>status</th>\n",
       "      <th>symptoms</th>\n",
       "      <th>travel_hx</th>\n",
       "      <th>geometry.x</th>\n",
       "      <th>geometry.y</th>\n",
       "      <th>contacts</th>\n",
       "      <th>contacts_num</th>\n",
       "    </tr>\n",
       "  </thead>\n",
       "  <tbody>\n",
       "    <tr>\n",
       "      <th>0</th>\n",
       "      <td>1</td>\n",
       "      <td>PH1</td>\n",
       "      <td>1/30/2020</td>\n",
       "      <td>38</td>\n",
       "      <td></td>\n",
       "      <td>San Lazaro Hospital</td>\n",
       "      <td>Female</td>\n",
       "      <td>14.613754</td>\n",
       "      <td>120.980815</td>\n",
       "      <td>Chinese</td>\n",
       "      <td>1/29/2020 16:00</td>\n",
       "      <td>None</td>\n",
       "      <td></td>\n",
       "      <td></td>\n",
       "      <td>Yes (China); Wife of PH2</td>\n",
       "      <td>1.346752e+07</td>\n",
       "      <td>1.644726e+06</td>\n",
       "      <td>[PH2]</td>\n",
       "      <td>[2]</td>\n",
       "    </tr>\n",
       "    <tr>\n",
       "      <th>1</th>\n",
       "      <td>2</td>\n",
       "      <td>PH2</td>\n",
       "      <td>1/30/2020</td>\n",
       "      <td>44</td>\n",
       "      <td></td>\n",
       "      <td>San Lazaro Hospital</td>\n",
       "      <td>Male</td>\n",
       "      <td>14.613754</td>\n",
       "      <td>120.980815</td>\n",
       "      <td>Chinese</td>\n",
       "      <td>1/29/2020 16:00</td>\n",
       "      <td>None</td>\n",
       "      <td></td>\n",
       "      <td></td>\n",
       "      <td>Yes (China); Husband of PH1</td>\n",
       "      <td>1.346752e+07</td>\n",
       "      <td>1.644726e+06</td>\n",
       "      <td>[PH1]</td>\n",
       "      <td>[1]</td>\n",
       "    </tr>\n",
       "    <tr>\n",
       "      <th>2</th>\n",
       "      <td>3</td>\n",
       "      <td>PH3</td>\n",
       "      <td>1/30/2020</td>\n",
       "      <td>60</td>\n",
       "      <td></td>\n",
       "      <td>San Lazaro Hospital</td>\n",
       "      <td>Female</td>\n",
       "      <td>14.613754</td>\n",
       "      <td>120.980815</td>\n",
       "      <td>Chinese</td>\n",
       "      <td>1/29/2020 16:00</td>\n",
       "      <td>None</td>\n",
       "      <td></td>\n",
       "      <td></td>\n",
       "      <td>Yes (China)</td>\n",
       "      <td>1.346752e+07</td>\n",
       "      <td>1.644726e+06</td>\n",
       "      <td>[]</td>\n",
       "      <td>[]</td>\n",
       "    </tr>\n",
       "    <tr>\n",
       "      <th>3</th>\n",
       "      <td>4</td>\n",
       "      <td>PH4</td>\n",
       "      <td>3/5/2020</td>\n",
       "      <td>48</td>\n",
       "      <td></td>\n",
       "      <td>Research Institute for Tropical Medicine</td>\n",
       "      <td>Male</td>\n",
       "      <td>14.409523</td>\n",
       "      <td>121.037122</td>\n",
       "      <td>Filipino</td>\n",
       "      <td>3/4/2020 16:00</td>\n",
       "      <td>Taguig City</td>\n",
       "      <td></td>\n",
       "      <td></td>\n",
       "      <td>Yes (Japan)</td>\n",
       "      <td>1.347379e+07</td>\n",
       "      <td>1.621242e+06</td>\n",
       "      <td>[]</td>\n",
       "      <td>[]</td>\n",
       "    </tr>\n",
       "    <tr>\n",
       "      <th>4</th>\n",
       "      <td>5</td>\n",
       "      <td>PH5</td>\n",
       "      <td>3/5/2020</td>\n",
       "      <td>62</td>\n",
       "      <td></td>\n",
       "      <td>Research Institute for Tropical Medicine</td>\n",
       "      <td>Male</td>\n",
       "      <td>14.409523</td>\n",
       "      <td>121.037122</td>\n",
       "      <td>Filipino</td>\n",
       "      <td>3/4/2020 16:00</td>\n",
       "      <td>Rizal</td>\n",
       "      <td></td>\n",
       "      <td></td>\n",
       "      <td>Husband of PH6</td>\n",
       "      <td>1.347379e+07</td>\n",
       "      <td>1.621242e+06</td>\n",
       "      <td>[PH6]</td>\n",
       "      <td>[6]</td>\n",
       "    </tr>\n",
       "  </tbody>\n",
       "</table>\n",
       "</div>"
      ],
      "text/plain": [
       "   FID PH_masterl  confirmed  edad epi_link  \\\n",
       "0    1        PH1  1/30/2020    38            \n",
       "1    2        PH2  1/30/2020    44            \n",
       "2    3        PH3  1/30/2020    60            \n",
       "3    4        PH4   3/5/2020    48            \n",
       "4    5        PH5   3/5/2020    62            \n",
       "\n",
       "                                   facility kasarian   latitude   longitude  \\\n",
       "0                       San Lazaro Hospital   Female  14.613754  120.980815   \n",
       "1                       San Lazaro Hospital     Male  14.613754  120.980815   \n",
       "2                       San Lazaro Hospital   Female  14.613754  120.980815   \n",
       "3  Research Institute for Tropical Medicine     Male  14.409523  121.037122   \n",
       "4  Research Institute for Tropical Medicine     Male  14.409523  121.037122   \n",
       "\n",
       "  nationalit            petsa    residence status symptoms  \\\n",
       "0    Chinese  1/29/2020 16:00         None                   \n",
       "1    Chinese  1/29/2020 16:00         None                   \n",
       "2    Chinese  1/29/2020 16:00         None                   \n",
       "3   Filipino   3/4/2020 16:00  Taguig City                   \n",
       "4   Filipino   3/4/2020 16:00        Rizal                   \n",
       "\n",
       "                     travel_hx    geometry.x    geometry.y contacts  \\\n",
       "0     Yes (China); Wife of PH2  1.346752e+07  1.644726e+06    [PH2]   \n",
       "1  Yes (China); Husband of PH1  1.346752e+07  1.644726e+06    [PH1]   \n",
       "2                  Yes (China)  1.346752e+07  1.644726e+06       []   \n",
       "3                  Yes (Japan)  1.347379e+07  1.621242e+06       []   \n",
       "4               Husband of PH6  1.347379e+07  1.621242e+06    [PH6]   \n",
       "\n",
       "  contacts_num  \n",
       "0          [2]  \n",
       "1          [1]  \n",
       "2           []  \n",
       "3           []  \n",
       "4          [6]  "
      ]
     },
     "execution_count": 12,
     "metadata": {},
     "output_type": "execute_result"
    }
   ],
   "source": [
    "from covid_ph_data import extract_contact_cols\n",
    "sample = extract_contact_cols(sample)\n",
    "sample.head()"
   ]
  },
  {
   "cell_type": "markdown",
   "metadata": {},
   "source": [
    "<b>Use get_case_plot to see the growth of cases:</b>\n",
    "<br>\n",
    "<br>\n",
    "<i>Growth of Filipino Cases</i>"
   ]
  },
  {
   "cell_type": "code",
   "execution_count": 6,
   "metadata": {},
   "outputs": [
    {
     "name": "stdout",
     "output_type": "stream",
     "text": [
      "First Confirmed Case:  2020-03-05\n",
      "Latest Confirmed Case:  2020-03-21\n"
     ]
    },
    {
     "data": {
      "image/png": "[encoded data removed]",
      "text/plain": [
       "<Figure size 432x288 with 1 Axes>"
      ]
     },
     "metadata": {
      "needs_background": "light"
     },
     "output_type": "display_data"
    }
   ],
   "source": [
    "from covid_ph_plot import get_case_plot\n",
    "get_case_plot(sample[sample['nationalit']=='Filipino'])"
   ]
  },
  {
   "cell_type": "markdown",
   "metadata": {},
   "source": [
    "<i>Growth of Non-Filipino Cases</i>"
   ]
  },
  {
   "cell_type": "code",
   "execution_count": 7,
   "metadata": {},
   "outputs": [
    {
     "name": "stdout",
     "output_type": "stream",
     "text": [
      "First Confirmed Case:  2020-01-30\n",
      "Latest Confirmed Case:  2020-03-21\n"
     ]
    },
    {
     "data": {
      "image/png": "[encoded data removed]",
      "text/plain": [
       "<Figure size 432x288 with 1 Axes>"
      ]
     },
     "metadata": {
      "needs_background": "light"
     },
     "output_type": "display_data"
    }
   ],
   "source": [
    "get_case_plot(sample[sample['nationalit']!='Filipino'])"
   ]
  },
  {
   "cell_type": "markdown",
   "metadata": {},
   "source": [
    "<i>Growth of All Cases</i>"
   ]
  },
  {
   "cell_type": "code",
   "execution_count": 8,
   "metadata": {},
   "outputs": [
    {
     "name": "stdout",
     "output_type": "stream",
     "text": [
      "First Confirmed Case:  2020-01-30\n",
      "Latest Confirmed Case:  2020-03-21\n"
     ]
    },
    {
     "data": {
      "image/png": "[encoded data removed]",
      "text/plain": [
       "<Figure size 432x288 with 1 Axes>"
      ]
     },
     "metadata": {
      "needs_background": "light"
     },
     "output_type": "display_data"
    }
   ],
   "source": [
    "get_case_plot(sample)"
   ]
  }
 ],
 "metadata": {
  "kernelspec": {
   "display_name": "Python 3",
   "language": "python",
   "name": "python3"
  },
  "language_info": {
   "codemirror_mode": {
    "name": "ipython",
    "version": 3
   },
   "file_extension": ".py",
   "mimetype": "text/x-python",
   "name": "python",
   "nbconvert_exporter": "python",
   "pygments_lexer": "ipython3",
   "version": "3.7.3"
  }
 },
 "nbformat": 4,
 "nbformat_minor": 2
}
