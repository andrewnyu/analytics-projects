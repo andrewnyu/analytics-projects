{
 "cells": [
  {
   "cell_type": "markdown",
   "metadata": {},
   "source": [
    "## Part I: Read Data and Pre-Process"
   ]
  },
  {
   "cell_type": "markdown",
   "metadata": {},
   "source": [
    "Data source is url query into PH Department of Health Data (shared on FB by X) which returns a JSON. JSON is then converted to pandas DataFrame, Stackoverflow code reference found here: "
   ]
  },
  {
   "cell_type": "code",
   "execution_count": 46,
   "metadata": {},
   "outputs": [],
   "source": [
    "import numpy as np\n",
    "import pandas as pd\n",
    "\n",
    "#Read JSON from src url\n",
    "src_url = 'https://services5.arcgis.com/mnYJ21GiFTR97WFg/arcgis/rest/services/PH_masterlist/FeatureServer/0/query?f=json&where=1%3D1&returnGeometry=true&spatialRel=esriSpatialRelIntersects&outFields=%2A&outSR=102100&cacheHint=true&fbclid=IwAR38QbvClnSnwMEw23qlVwTBcgl_fqsFQaYNM1XiCThVVus0sBjclLyp8F0'\n",
    "\n",
    "from urllib.request import urlopen\n",
    "import json\n",
    "from pandas.io.json import json_normalize\n",
    "raw = json.loads(urlopen(src_url).read())\n",
    "df = json_normalize(raw['features'])\n",
    "\n",
    "#rename columns for easier navigation\n",
    "df.rename(columns = lambda x: x.split('attributes.')[-1], inplace = True)"
   ]
  },
  {
   "cell_type": "markdown",
   "metadata": {},
   "source": [
    "Column 'travel hx' contains a list of people interacted with and countries visited in paragraph format. Regex is used to obtain a list of contacts (of the form PHX) and store copies of exact contact code [PHX] and code only [X]"
   ]
  },
  {
   "cell_type": "code",
   "execution_count": 68,
   "metadata": {},
   "outputs": [],
   "source": [
    "#include contact tracing to (sort of) map spread\n",
    "import re\n",
    "def get_contacts (s):\n",
    "    try:\n",
    "        return re.findall(r'\\bPH\\w+',s)\n",
    "    except TypeError:\n",
    "        return \"\"\n",
    "\n",
    "df['contacts'] = df['travel_hx'].apply(lambda x: get_contacts(x))\n",
    "\n",
    "def get_contacts_num (l):\n",
    "    nums = []\n",
    "    for i in l:\n",
    "        nums.append(i.split('PH')[-1])\n",
    "    return nums\n",
    "        \n",
    "df['contacts_num'] = df['contacts'].apply(lambda x: get_contacts_num(x))"
   ]
  },
  {
   "cell_type": "markdown",
   "metadata": {},
   "source": [
    "## Part II: Connected Components Analysis"
   ]
  },
  {
   "cell_type": "markdown",
   "metadata": {},
   "source": [
    "Question here is, given the contacts obtained in Part I, a.) how many inter-connected groups are there, b.) how large are they and c.) what percentage of transmissions do they cover?"
   ]
  },
  {
   "cell_type": "code",
   "execution_count": 119,
   "metadata": {},
   "outputs": [],
   "source": [
    "#Create an undirected graph of all connections\n",
    "contact_map = {}\n",
    "def add_edge(s, d, curr_dict):\n",
    "    try:\n",
    "        curr_dict[s].append(d)\n",
    "    except KeyError:\n",
    "        curr_dict[s] = []\n",
    "        curr_dict[s].append(d)\n",
    "\n",
    "for row in df.itertuples():\n",
    "    current = getattr(row, 'FID')\n",
    "    contact_list = getattr(row, 'contacts_num')\n",
    "    for c in pd.Series(contact_list).unique():\n",
    "        add_edge(int(current), int(c), contact_map)\n",
    "        add_edge(int(c), int(current), contact_map)\n",
    "    \n",
    "    if(len(contact_list)==0):\n",
    "        contact_map[current] = []\n",
    "\n",
    "for key in contact_map.keys():\n",
    "    contact_map[key] = list(set(contact_map[key]))\n",
    "        "
   ]
  },
  {
   "cell_type": "code",
   "execution_count": 127,
   "metadata": {},
   "outputs": [],
   "source": [
    "cnt = len(df)\n",
    "visited = [False for i in range(1,cnt+2)]\n",
    "parent = [-1 for i in range(1,cnt+2)]\n",
    "cnt_visited = 0\n",
    "def dfs (v, g, rc):\n",
    "    #dfs from node v in graph (dict) g\n",
    "    visited[v] = True\n",
    "    rc = rc + 1\n",
    "    for node in g[v]:\n",
    "        if(not visited[node]):\n",
    "            parent[node] = v\n",
    "            dfs(node, g, rc)\n",
    "            \n",
    "cnt_cc = 0\n",
    "comp_list = [0 for i in range(0, cnt)]\n",
    "for i in range(1, cnt+1):\n",
    "    cnt_visited_pre = cnt_visited\n",
    "    if(not visited[i]):\n",
    "        cnt_cc+=1\n",
    "        dfs(i, contact_map, cnt_visited)\n",
    "    \n",
    "    comp_list[i-1] = cnt_visited - cnt_visited_pre"
   ]
  },
  {
   "cell_type": "markdown",
   "metadata": {},
   "source": [
    "We find that there are 274 unique components, meaning that inter-connected components (within network transmissions) account for 11% of all cases."
   ]
  },
  {
   "cell_type": "code",
   "execution_count": 129,
   "metadata": {},
   "outputs": [
    {
     "name": "stdout",
     "output_type": "stream",
     "text": [
      "274\n"
     ]
    }
   ],
   "source": [
    "print(cnt_cc)"
   ]
  },
  {
   "cell_type": "code",
   "execution_count": 130,
   "metadata": {},
   "outputs": [
    {
     "name": "stdout",
     "output_type": "stream",
     "text": [
      "0.8925081433224755\n"
     ]
    }
   ],
   "source": [
    "print(cnt_cc/cnt)"
   ]
  },
  {
   "cell_type": "markdown",
   "metadata": {},
   "source": [
    "## Part III: Conclusion"
   ]
  },
  {
   "cell_type": "markdown",
   "metadata": {},
   "source": [
    "Pre-reached conclusion on a possible methodology to a.) identify and isolate large spreading groups and b.) identify potential areas which are under-tested\n",
    "<br><br>\n",
    "Conclusions to be updated as source data gets updated"
   ]
  },
  {
   "cell_type": "code",
   "execution_count": null,
   "metadata": {},
   "outputs": [],
   "source": []
  }
 ],
 "metadata": {
  "kernelspec": {
   "display_name": "Python 3",
   "language": "python",
   "name": "python3"
  },
  "language_info": {
   "codemirror_mode": {
    "name": "ipython",
    "version": 3
   },
   "file_extension": ".py",
   "mimetype": "text/x-python",
   "name": "python",
   "nbconvert_exporter": "python",
   "pygments_lexer": "ipython3",
   "version": "3.7.3"
  }
 },
 "nbformat": 4,
 "nbformat_minor": 2
}
