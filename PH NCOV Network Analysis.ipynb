{
 "cells": [
  {
   "cell_type": "markdown",
   "metadata": {},
   "source": [
    "## Part I: Read Data and Pre-Process"
   ]
  },
  {
   "cell_type": "markdown",
   "metadata": {},
   "source": [
    "Data source is url query into PH Department of Health Data (shared on FB by X) which returns a JSON. JSON is then converted to pandas DataFrame, Stackoverflow code reference found here: "
   ]
  },
  {
   "cell_type": "code",
   "execution_count": 46,
   "metadata": {},
   "outputs": [],
   "source": [
    "import numpy as np\n",
    "import pandas as pd\n",
    "\n",
    "#Read JSON from src url\n",
    "src_url = 'https://services5.arcgis.com/mnYJ21GiFTR97WFg/arcgis/rest/services/PH_masterlist/FeatureServer/0/query?f=json&where=1%3D1&returnGeometry=true&spatialRel=esriSpatialRelIntersects&outFields=%2A&outSR=102100&cacheHint=true&fbclid=IwAR38QbvClnSnwMEw23qlVwTBcgl_fqsFQaYNM1XiCThVVus0sBjclLyp8F0'\n",
    "\n",
    "from urllib.request import urlopen\n",
    "import json\n",
    "from pandas.io.json import json_normalize\n",
    "raw = json.loads(urlopen(src_url).read())\n",
    "df = json_normalize(raw['features'])\n",
    "\n",
    "#rename columns for easier navigation\n",
    "df.rename(columns = lambda x: x.split('attributes.')[-1], inplace = True)"
   ]
  },
  {
   "cell_type": "markdown",
   "metadata": {},
   "source": [
    "Column 'travel hx' contains a list of people interacted with and countries visited in paragraph format. Regex is used to obtain a list of contacts (of the form PHX) and store copies of exact contact code [PHX] and code only [X]"
   ]
  },
  {
   "cell_type": "code",
   "execution_count": 68,
   "metadata": {},
   "outputs": [],
   "source": [
    "#include contact tracing to (sort of) map spread\n",
    "import re\n",
    "def get_contacts (s):\n",
    "    try:\n",
    "        return re.findall(r'\\bPH\\w+',s)\n",
    "    except TypeError:\n",
    "        return \"\"\n",
    "\n",
    "df['contacts'] = df['travel_hx'].apply(lambda x: get_contacts(x))\n",
    "\n",
    "def get_contacts_num (l):\n",
    "    nums = []\n",
    "    for i in l:\n",
    "        nums.append(i.split('PH')[-1])\n",
    "    return nums\n",
    "        \n",
    "df['contacts_num'] = df['contacts'].apply(lambda x: get_contacts_num(x))"
   ]
  },
  {
   "cell_type": "markdown",
   "metadata": {},
   "source": [
    "## Part II: Connected Components Analysis"
   ]
  },
  {
   "cell_type": "markdown",
   "metadata": {},
   "source": [
    "Question here is, given the contacts obtained in Part I, a.) how many inter-connected groups are there, b.) how large are they and c.) what percentage of transmissions do they cover?"
   ]
  },
  {
   "cell_type": "code",
   "execution_count": 119,
   "metadata": {},
   "outputs": [],
   "source": [
    "#Create an undirected graph of all connections\n",
    "contact_map = {}\n",
    "def add_edge(s, d, curr_dict):\n",
    "    try:\n",
    "        curr_dict[s].append(d)\n",
    "    except KeyError:\n",
    "        curr_dict[s] = []\n",
    "        curr_dict[s].append(d)\n",
    "\n",
    "for row in df.itertuples():\n",
    "    current = getattr(row, 'FID')\n",
    "    contact_list = getattr(row, 'contacts_num')\n",
    "    for c in pd.Series(contact_list).unique():\n",
    "        add_edge(int(current), int(c), contact_map)\n",
    "        add_edge(int(c), int(current), contact_map)\n",
    "    \n",
    "    if(len(contact_list)==0):\n",
    "        contact_map[current] = []\n",
    "\n",
    "for key in contact_map.keys():\n",
    "    contact_map[key] = list(set(contact_map[key]))\n",
    "        "
   ]
  },
  {
   "cell_type": "markdown",
   "metadata": {},
   "source": [
    "Use Depth First Search (DFS) to a.) make a map of all connected cases and b.) count the size and number of connected components"
   ]
  },
  {
   "cell_type": "code",
   "execution_count": 144,
   "metadata": {},
   "outputs": [],
   "source": [
    "cnt = len(df)\n",
    "visited = [False for i in range(1,cnt+2)]\n",
    "visited_pre = [False for i in range(1,cnt+2)]\n",
    "parent = [-1 for i in range(1,cnt+2)]\n",
    "def dfs (v, g):\n",
    "    #dfs from node v in graph (dict) g\n",
    "    visited[v] = True\n",
    "    for node in g[v]:\n",
    "        if(not visited[node]):\n",
    "            parent[node] = v\n",
    "            dfs(node, g)\n",
    "            \n",
    "cnt_cc = 0\n",
    "comp_list = {}\n",
    "for i in range(1, cnt+1):\n",
    "    if(not visited[i]):\n",
    "        cnt_cc+=1\n",
    "        dfs(i, contact_map)\n",
    "        comp_list[cnt_cc-1] = []\n",
    "        \n",
    "        for j in range(1, cnt+1):\n",
    "            if(not visited_pre[j] and visited[j]):\n",
    "                visited_pre[j] = visited[j]\n",
    "                comp_list[cnt_cc-1].append(j)"
   ]
  },
  {
   "cell_type": "markdown",
   "metadata": {},
   "source": [
    "Finding: The largest connected component is 8 people: [12, 34, 35, 42, 43, 84, 86, 204]. Additionaly, we find that there are 274 unique components, meaning that connected components (2 or more people) account for 11% of all cases."
   ]
  },
  {
   "cell_type": "code",
   "execution_count": 169,
   "metadata": {},
   "outputs": [
    {
     "name": "stdout",
     "output_type": "stream",
     "text": [
      "Number of People in the Top 5 largest networks:\n"
     ]
    },
    {
     "data": {
      "text/plain": [
       "[3, 4, 4, 6, 8]"
      ]
     },
     "execution_count": 169,
     "metadata": {},
     "output_type": "execute_result"
    }
   ],
   "source": [
    "comp_size = [0 for i in comp_list.keys()]\n",
    "for key in comp_list.keys():\n",
    "    comp_size[key] = len(comp_list[key])\n",
    "\n",
    "print(\"Number of People in the Top 5 largest networks:\")\n",
    "comp_size.sort()\n",
    "comp_size[-5:]"
   ]
  },
  {
   "cell_type": "code",
   "execution_count": 165,
   "metadata": {},
   "outputs": [
    {
     "data": {
      "text/plain": [
       "{0: [1, 2],\n",
       " 1: [3],\n",
       " 2: [4],\n",
       " 3: [5, 6, 38],\n",
       " 4: [7],\n",
       " 5: [8],\n",
       " 6: [9, 27, 28, 29, 30, 31],\n",
       " 7: [10],\n",
       " 8: [11],\n",
       " 9: [12, 34, 35, 42, 43, 84, 86, 204],\n",
       " 10: [13],\n",
       " 11: [14],\n",
       " 12: [15],\n",
       " 13: [16, 17],\n",
       " 14: [18, 19],\n",
       " 15: [20],\n",
       " 16: [21, 65, 66, 67],\n",
       " 17: [22],\n",
       " 18: [23],\n",
       " 19: [24],\n",
       " 20: [25],\n",
       " 21: [26],\n",
       " 22: [32, 90],\n",
       " 23: [33],\n",
       " 24: [36],\n",
       " 25: [37],\n",
       " 26: [39],\n",
       " 27: [40],\n",
       " 28: [41, 44, 87, 112],\n",
       " 29: [45],\n",
       " 30: [46],\n",
       " 31: [47],\n",
       " 32: [48],\n",
       " 33: [49, 52, 183],\n",
       " 34: [50],\n",
       " 35: [51, 134, 135],\n",
       " 36: [53],\n",
       " 37: [54],\n",
       " 38: [55],\n",
       " 39: [56],\n",
       " 40: [57],\n",
       " 41: [58],\n",
       " 42: [59],\n",
       " 43: [60],\n",
       " 44: [61],\n",
       " 45: [62],\n",
       " 46: [63],\n",
       " 47: [64],\n",
       " 48: [68],\n",
       " 49: [69],\n",
       " 50: [70],\n",
       " 51: [71],\n",
       " 52: [72],\n",
       " 53: [73],\n",
       " 54: [74],\n",
       " 55: [75],\n",
       " 56: [76],\n",
       " 57: [77],\n",
       " 58: [78],\n",
       " 59: [79],\n",
       " 60: [80],\n",
       " 61: [81],\n",
       " 62: [82],\n",
       " 63: [83],\n",
       " 64: [85],\n",
       " 65: [88],\n",
       " 66: [89],\n",
       " 67: [91],\n",
       " 68: [92],\n",
       " 69: [93],\n",
       " 70: [94],\n",
       " 71: [95],\n",
       " 72: [96],\n",
       " 73: [97],\n",
       " 74: [98],\n",
       " 75: [99],\n",
       " 76: [100],\n",
       " 77: [101],\n",
       " 78: [102],\n",
       " 79: [103],\n",
       " 80: [104],\n",
       " 81: [105],\n",
       " 82: [106],\n",
       " 83: [107],\n",
       " 84: [108],\n",
       " 85: [109],\n",
       " 86: [110],\n",
       " 87: [111],\n",
       " 88: [113],\n",
       " 89: [114],\n",
       " 90: [115],\n",
       " 91: [116],\n",
       " 92: [117],\n",
       " 93: [118],\n",
       " 94: [119],\n",
       " 95: [120],\n",
       " 96: [121],\n",
       " 97: [122],\n",
       " 98: [123],\n",
       " 99: [124],\n",
       " 100: [125],\n",
       " 101: [126],\n",
       " 102: [127],\n",
       " 103: [128],\n",
       " 104: [129],\n",
       " 105: [130],\n",
       " 106: [131],\n",
       " 107: [132],\n",
       " 108: [133],\n",
       " 109: [136],\n",
       " 110: [137],\n",
       " 111: [138],\n",
       " 112: [139],\n",
       " 113: [140],\n",
       " 114: [141, 143],\n",
       " 115: [142],\n",
       " 116: [144],\n",
       " 117: [145],\n",
       " 118: [146],\n",
       " 119: [147],\n",
       " 120: [148],\n",
       " 121: [149],\n",
       " 122: [150],\n",
       " 123: [151],\n",
       " 124: [152],\n",
       " 125: [153],\n",
       " 126: [154],\n",
       " 127: [155],\n",
       " 128: [156],\n",
       " 129: [157, 158],\n",
       " 130: [159],\n",
       " 131: [160],\n",
       " 132: [161],\n",
       " 133: [162],\n",
       " 134: [163],\n",
       " 135: [164, 173],\n",
       " 136: [165],\n",
       " 137: [166],\n",
       " 138: [167],\n",
       " 139: [168],\n",
       " 140: [169, 170, 176],\n",
       " 141: [171],\n",
       " 142: [172],\n",
       " 143: [174],\n",
       " 144: [175],\n",
       " 145: [177],\n",
       " 146: [178],\n",
       " 147: [179],\n",
       " 148: [180],\n",
       " 149: [181],\n",
       " 150: [182],\n",
       " 151: [184],\n",
       " 152: [185],\n",
       " 153: [186],\n",
       " 154: [187],\n",
       " 155: [188],\n",
       " 156: [189],\n",
       " 157: [190],\n",
       " 158: [191],\n",
       " 159: [192],\n",
       " 160: [193],\n",
       " 161: [194],\n",
       " 162: [195],\n",
       " 163: [196],\n",
       " 164: [197],\n",
       " 165: [198],\n",
       " 166: [199],\n",
       " 167: [200],\n",
       " 168: [201],\n",
       " 169: [202],\n",
       " 170: [203],\n",
       " 171: [205],\n",
       " 172: [206],\n",
       " 173: [207],\n",
       " 174: [208],\n",
       " 175: [209],\n",
       " 176: [210],\n",
       " 177: [211],\n",
       " 178: [212],\n",
       " 179: [213],\n",
       " 180: [214],\n",
       " 181: [215],\n",
       " 182: [216],\n",
       " 183: [217],\n",
       " 184: [218],\n",
       " 185: [219],\n",
       " 186: [220],\n",
       " 187: [221],\n",
       " 188: [222],\n",
       " 189: [223],\n",
       " 190: [224],\n",
       " 191: [225],\n",
       " 192: [226],\n",
       " 193: [227],\n",
       " 194: [228],\n",
       " 195: [229],\n",
       " 196: [230],\n",
       " 197: [231],\n",
       " 198: [232],\n",
       " 199: [233],\n",
       " 200: [234],\n",
       " 201: [235],\n",
       " 202: [236],\n",
       " 203: [237],\n",
       " 204: [238],\n",
       " 205: [239],\n",
       " 206: [240],\n",
       " 207: [241],\n",
       " 208: [242],\n",
       " 209: [243],\n",
       " 210: [244],\n",
       " 211: [245],\n",
       " 212: [246],\n",
       " 213: [247],\n",
       " 214: [248],\n",
       " 215: [249],\n",
       " 216: [250],\n",
       " 217: [251],\n",
       " 218: [252],\n",
       " 219: [253],\n",
       " 220: [254],\n",
       " 221: [255],\n",
       " 222: [256],\n",
       " 223: [257],\n",
       " 224: [258],\n",
       " 225: [259],\n",
       " 226: [260],\n",
       " 227: [261],\n",
       " 228: [262],\n",
       " 229: [263],\n",
       " 230: [264],\n",
       " 231: [265],\n",
       " 232: [266],\n",
       " 233: [267],\n",
       " 234: [268],\n",
       " 235: [269],\n",
       " 236: [270],\n",
       " 237: [271],\n",
       " 238: [272],\n",
       " 239: [273],\n",
       " 240: [274],\n",
       " 241: [275],\n",
       " 242: [276],\n",
       " 243: [277],\n",
       " 244: [278],\n",
       " 245: [279],\n",
       " 246: [280],\n",
       " 247: [281],\n",
       " 248: [282],\n",
       " 249: [283],\n",
       " 250: [284],\n",
       " 251: [285],\n",
       " 252: [286],\n",
       " 253: [287],\n",
       " 254: [288],\n",
       " 255: [289],\n",
       " 256: [290],\n",
       " 257: [291],\n",
       " 258: [292],\n",
       " 259: [293],\n",
       " 260: [294],\n",
       " 261: [295],\n",
       " 262: [296],\n",
       " 263: [297],\n",
       " 264: [298],\n",
       " 265: [299],\n",
       " 266: [300],\n",
       " 267: [301],\n",
       " 268: [302],\n",
       " 269: [303],\n",
       " 270: [304],\n",
       " 271: [305],\n",
       " 272: [306],\n",
       " 273: [307]}"
      ]
     },
     "execution_count": 165,
     "metadata": {},
     "output_type": "execute_result"
    }
   ],
   "source": [
    "#Dictionary that maps all connected cases\n",
    "comp_list"
   ]
  },
  {
   "cell_type": "code",
   "execution_count": 172,
   "metadata": {},
   "outputs": [
    {
     "name": "stdout",
     "output_type": "stream",
     "text": [
      "Number of unique networks:  274\n"
     ]
    }
   ],
   "source": [
    "print(\"Number of unique networks: \", cnt_cc)"
   ]
  },
  {
   "cell_type": "code",
   "execution_count": 177,
   "metadata": {},
   "outputs": [
    {
     "name": "stdout",
     "output_type": "stream",
     "text": [
      "Percentage of Transmissions in networks of 2+: 10.75%\n"
     ]
    }
   ],
   "source": [
    "print(f\"Percentage of Transmissions in networks of 2+: {round(100*(1-cnt_cc/cnt),2)}%\")"
   ]
  },
  {
   "cell_type": "markdown",
   "metadata": {},
   "source": [
    "## Part III: Conclusion"
   ]
  },
  {
   "cell_type": "markdown",
   "metadata": {},
   "source": [
    "Pre-reached conclusion on a possible methodology to a.) identify and isolate large spreading groups and b.) identify potential areas which are under-tested\n",
    "<br><br>\n",
    "Conclusions to be updated as source data gets updated"
   ]
  },
  {
   "cell_type": "code",
   "execution_count": null,
   "metadata": {},
   "outputs": [],
   "source": []
  }
 ],
 "metadata": {
  "kernelspec": {
   "display_name": "Python 3",
   "language": "python",
   "name": "python3"
  },
  "language_info": {
   "codemirror_mode": {
    "name": "ipython",
    "version": 3
   },
   "file_extension": ".py",
   "mimetype": "text/x-python",
   "name": "python",
   "nbconvert_exporter": "python",
   "pygments_lexer": "ipython3",
   "version": "3.7.3"
  }
 },
 "nbformat": 4,
 "nbformat_minor": 2
}
